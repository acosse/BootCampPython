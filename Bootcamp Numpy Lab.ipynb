{
 "cells": [
  {
   "cell_type": "markdown",
   "metadata": {},
   "source": [
    "### Training Exercises: Numpy"
   ]
  },
  {
   "cell_type": "markdown",
   "metadata": {},
   "source": [
    "### Part I: Warm up"
   ]
  },
  {
   "cell_type": "markdown",
   "metadata": {
    "collapsed": true
   },
   "source": [
    "####  Set I: Array operations\n",
    "\n",
    "- I.1 Build an array that contains all the values between 10 and 20\n",
    "- I.2. Return the array obtained by reversing the array you obtained at the first point\n",
    "- I.3. From either of your arrays, extract the arrays containing the even and odd numbers\n",
    "- I.4. Write a small function that takes an array as input and return \n",
    "- I.5. Generate an array of random numbers between 2.2 and 4.5\n",
    "- I.6. Generate two random vectors of size $100\\times 1$. Concatenate those vectors vertically, tehn horizontally. Do the same with two random matrices of size $10\\times 10$"
   ]
  },
  {
   "cell_type": "code",
   "execution_count": null,
   "metadata": {
    "collapsed": true
   },
   "outputs": [],
   "source": [
    "import numpy as np\n",
    "\n"
   ]
  },
  {
   "cell_type": "markdown",
   "metadata": {},
   "source": [
    "####  Set II: vectors, matrices and matplotlib\n",
    "\n",
    "- II.1 Generate a random 3D vector $v = (v_1, v_2, v_3)$ and display it using matplotlib\n",
    "- II.2. The $\\ell_1$, $\\ell_2$ and $\\ell_\\infty$ norms of a vector $v = (v_1, v_2, v_3)$ are respectively defined as\n",
    "$$\\|v\\|_2 = \\sum_{k=1}^3 v_k^2, \\quad \\|v\\|_1 = \\sum_{k=1}^3 |v_k|,\\quad\\text{and}, \\quad \\|v\\|_\\infty = \\max_k |v_k| $$\n",
    "Write a function that compute each of those norms\n",
    "- II.3. Given a matrix $A$, compute the inverse and determinant of the matrix\n",
    "- II.4. Given a matrix $A$, write a function that computes the solution to the system $Ax = b$\n",
    "- II.5. Assume that the $A$ in point $I.4.$ is given by \n",
    "$$A = \\left[\\begin{array}{ccc}\n",
    "1 & 2 & 3 \\\\\n",
    "1.5 & 3 & 4.5 \\\\\n",
    "3 &2 & 1\n",
    "\\end{array}\\right] $$\n",
    "How many solutions does the system $Ax = b$ for $b=(1, 0, 0)$ have ?\n",
    "\n",
    "- II.6. For any linear system of equations, one can solve the system $Ax = b$ (and hence determine the number of solutions) by Gaussian elimination. The idea is to build the matrix $[A|b]$ and apply simple operations (add or subtract multiples of the rows) to transform this matrix into a reduced row echelon form. Write a function that takes a matrix $A$ and a right handside $b$ as input and return the reduced row echelon form as well as the solution (when it is unique) of the system $Ax = b$.  \n",
    "\n",
    "\n",
    "- II.7 (Wigner semicircle law). Generate a large ($n>1000$) symmetric matrix $A$  with entries distributed identically and independently according to a Gaussian distribution with mean $0$ and variance $1$. compute the eigenvalues of the matrix and plot the associated histogram. What do you observe?\n",
    "\n",
    "- II.8 (Gram Schmidt) Given a family of vectors, $v_i$, the Gram Schmidt process generate an orthonormal basis (i.e a set of orthogonal vectors $ u_i^T u_j = 0$ with $\\|u_i\\|=1$) by repeating the following step:\n",
    "\n",
    "$$u_k = v_k - \\text{proj}_{u_{k-1}}(v_k) - \\ldots - \\text{proj}_{u_{1}}(v_k)$$\n",
    "\n",
    "where $\\text{proj}_v(x)= \\frac{\\boldsymbol v^T\\boldsymbol x}{\\|\\boldsymbol v\\|}\\boldsymbol v$.\n",
    "\n",
    "Write a function that takes a collection of vectors as inputs (i.e. encode the vectors as the columns of a matrix)"
   ]
  },
  {
   "cell_type": "code",
   "execution_count": null,
   "metadata": {
    "collapsed": true
   },
   "outputs": [],
   "source": [
    "import numpy\n",
    "\n",
    "\n"
   ]
  },
  {
   "cell_type": "markdown",
   "metadata": {},
   "source": [
    "####  Set III: Simple functions, loops and booleans\n",
    "\n",
    "- III.1. We consider the partial sums of the Harmonic series $\\sum_{k=1}^N \\frac{1}{k}$. Write a simple function that returns  \n",
    "- III.2. The Riemann zeta function can read as\n",
    "$$\\zeta(s) = \\sum_{k=1}^\\infty \\frac{1}{k^s}. $$ Plot this function on the real line.\n",
    "- III.3. Given an integer $K$, write a function that returns 1 if it is a prime and 0 otherwise. \n",
    "- III.4 Write a function that generate all prime numbers between 0 and $N$.  \n",
    "- III.5. The Fibonacci numbers obey the rule $F_n = F_{n-1} + F_{n-2}$ for $F_0 = 0$ and $F_1 = 1$. Write a function that generate the first $N$ such numbers for a given $N$."
   ]
  },
  {
   "cell_type": "code",
   "execution_count": null,
   "metadata": {
    "collapsed": true
   },
   "outputs": [],
   "source": [
    "import numpy as np\n",
    "\n"
   ]
  },
  {
   "cell_type": "markdown",
   "metadata": {},
   "source": [
    "####  Set IV: Derivatives \n",
    "\n",
    "\n",
    "- IV.1. Consider the function $f(x, y) = x^2 + y^2$. Compute the partial derivatives of that function with a finite difference $(1/h)*(f(x+h, y) - f(x, y))$ first for sufficiently small $h$. Then compare your result with the analytic derivation.\n",
    "- IV.2. Apply a few iterations of the gradient descent algorithm to this function. Plot the iterations on the 2D space together with the level lines of the function.\n",
    "- IV.3. Repeat IV.2 with the function \n",
    "$$f(x, y) = 3(1-x)^2e^{-x^2 - (y+1)^2} - 10(x/5 - x^3 - y^5)e^{-x^2 - y^2} - \\frac{1}{3}e^{-(x+1)^2 - y^2}$$\n"
   ]
  },
  {
   "cell_type": "code",
   "execution_count": null,
   "metadata": {
    "collapsed": true
   },
   "outputs": [],
   "source": [
    "import numpy as np\n",
    "\n"
   ]
  },
  {
   "cell_type": "markdown",
   "metadata": {},
   "source": [
    "### Part II Tech interviews. \n",
    "\n",
    "The questions below were asked during interviews at Tech companies (Google, facebook, amazon, ..)\n",
    "\n",
    "__Facebook.1.__ Generate two strings representing numbers. Multiply the two numbers and return the result as a string.  "
   ]
  },
  {
   "cell_type": "code",
   "execution_count": null,
   "metadata": {
    "collapsed": true
   },
   "outputs": [],
   "source": [
    "import numpy as np\n",
    "\n"
   ]
  },
  {
   "cell_type": "markdown",
   "metadata": {},
   "source": [
    "__Facebook.2.__ A palindrome is a sequence of characters which reads the same backward as forward. Given a string, check whether it is a palindrome (by ignoring the spaces)"
   ]
  },
  {
   "cell_type": "code",
   "execution_count": null,
   "metadata": {
    "collapsed": true
   },
   "outputs": [],
   "source": [
    "import numpy as np\n",
    "\n"
   ]
  },
  {
   "cell_type": "markdown",
   "metadata": {},
   "source": [
    "__Google (adapted).1.__ In this question, we consider a graph defined on s set of vertices $\\mathcal{V}$ and a set of edges $\\mathcal{E}$. We write this graph $\\mathcal{G}(\\mathcal{V}, \\mathcal{E})$. Any given graph can be represented by an adjacency matrix $A$ such that $A_{ij} = 1$ is there exists an edge between the vertices $i$ and $j$ and $A_{ij} = 0$ otherwise. \n",
    "\n",
    "- Generate an adjacency matrix at random. Then display the corresponding graph with networkx\n",
    "- Given a weighted graph (or its weighted adjacency matrix) and a pair of vertices, one would like to compute the shortest path between the two vertices. One way to achieve this is through the Dijkstra algorithm which is summarized as follows. \n",
    "\n",
    "Starting from a source node, the algorithm associates the distance 0 to the source and $+\\infty$ to all the other vertices. It the iterates on the following steps. Let $P =\\emptyset$. As long as there exists a vertex outside $P$, repeat\n",
    "\n",
    "Choose the vertex $a$ outside P with the smallest distance to the source. Add this vertex to P. For every neighbor $b$ of that vertex that is outside P, update $\\text{dist}[b] = \\min(d[b], d[a] + w_{a, b})$ where $w_{a,b}$ is the weight of the edge $(a,b)$ (check the wikipedia page if you need more information) \n",
    "\n",
    "Write a short function that computes the shortest path between any two vertices in the graph.\n"
   ]
  },
  {
   "cell_type": "code",
   "execution_count": null,
   "metadata": {},
   "outputs": [],
   "source": [
    "import numpy as np\n",
    "\n",
    "import matplotlib.pyplot as plt\n",
    "import networkx as nx\n",
    "\n"
   ]
  }
 ],
 "metadata": {
  "kernelspec": {
   "display_name": "Python 2",
   "language": "python",
   "name": "python2"
  },
  "language_info": {
   "codemirror_mode": {
    "name": "ipython",
    "version": 2
   },
   "file_extension": ".py",
   "mimetype": "text/x-python",
   "name": "python",
   "nbconvert_exporter": "python",
   "pygments_lexer": "ipython2",
   "version": "2.7.13"
  }
 },
 "nbformat": 4,
 "nbformat_minor": 2
}
